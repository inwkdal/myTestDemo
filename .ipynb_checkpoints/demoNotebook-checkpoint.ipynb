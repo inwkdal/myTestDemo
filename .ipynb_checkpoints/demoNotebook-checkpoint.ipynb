{
 "cells": [
  {
   "cell_type": "code",
   "execution_count": 10,
   "metadata": {},
   "outputs": [],
   "source": [
    "import string\n",
    "punct = string.whitespace + string.punctuation\n",
    "\n",
    "def process_book(filename):\n",
    "    hist = {}\n",
    "    book = open(filename)\n",
    "    for line in book:\n",
    "        line = line.split() # ['the', 'class']\n",
    "        for word in line: #str\n",
    "            word = word.strip(punct)\n",
    "            if word not in hist:\n",
    "                hist[word] = 0\n",
    "            else:\n",
    "                hist[word] +=1               \n",
    "    return hist\n",
    "            \n",
    "        "
   ]
  },
  {
   "cell_type": "code",
   "execution_count": 13,
   "metadata": {},
   "outputs": [
    {
     "name": "stdout",
     "output_type": "stream",
     "text": [
      "<class 'dict'>\n"
     ]
    }
   ],
   "source": [
    "hist = process_book(\"mybook.txt\")\n",
    "print(type(hist))\n",
    "# print(hist)\n",
    "# string.printables"
   ]
  },
  {
   "cell_type": "code",
   "execution_count": null,
   "metadata": {},
   "outputs": [],
   "source": []
  }
 ],
 "metadata": {
  "kernelspec": {
   "display_name": "Python 3",
   "language": "python",
   "name": "python3"
  },
  "language_info": {
   "codemirror_mode": {
    "name": "ipython",
    "version": 3
   },
   "file_extension": ".py",
   "mimetype": "text/x-python",
   "name": "python",
   "nbconvert_exporter": "python",
   "pygments_lexer": "ipython3",
   "version": "3.7.4"
  }
 },
 "nbformat": 4,
 "nbformat_minor": 2
}
